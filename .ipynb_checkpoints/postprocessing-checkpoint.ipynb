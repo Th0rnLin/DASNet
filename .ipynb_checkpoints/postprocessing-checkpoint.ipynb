{
 "cells": [
  {
   "cell_type": "code",
   "execution_count": null,
   "id": "dc617d6b",
   "metadata": {
    "code_folding": []
   },
   "outputs": [],
   "source": [
    "# model\n",
    "\n",
    "import tensorflow as tf\n",
    "import keras\n",
    "import numpy as np\n",
    "from keras import backend as K\n",
    "\n",
    "def recall_m(y_true, y_pred):\n",
    "    true_positives=K.sum(K.round(K.clip(y_true*y_pred, 0, 1)))\n",
    "    possible_positives=K.sum(K.round(K.clip(y_true, 0, 1)))\n",
    "    recall=true_positives/(possible_positives+K.epsilon())\n",
    "    return recall\n",
    "\n",
    "def precision_m(y_true, y_pred):\n",
    "    true_positives=K.sum(K.round(K.clip(y_true*y_pred, 0, 1)))\n",
    "    predicted_positives=K.sum(K.round(K.clip(y_pred, 0, 1)))\n",
    "    precision=true_positives/(predicted_positives+K.epsilon())\n",
    "    return precision\n",
    "\n",
    "def f1_m(y_true, y_pred):\n",
    "    precision=precision_m(y_true, y_pred)\n",
    "    recall=recall_m(y_true, y_pred)\n",
    "    return 2*((precision*recall)/(precision+recall+K.epsilon()))\n",
    "    \n",
    "model=keras.models.load_model(r'./model16_ReLU_first.h5', custom_objects={'f1_m': f1_m})"
   ]
  },
  {
   "cell_type": "code",
   "execution_count": null,
   "id": "6bec4885",
   "metadata": {
    "code_folding": []
   },
   "outputs": [],
   "source": [
    "# input feature map\n",
    "\n",
    "import numpy as np\n",
    "\n",
    "def preprocessing_point_cloud_data(file_path):\n",
    "    x, y, z, r=np.fromfile(file_path, dtype=np.float32).reshape(-1, 4).T\n",
    "    a=np.sqrt(x*x+y*y+z*z)         # radial distance                  # 3\n",
    "    b=np.rad2deg(np.arctan2(y, x)) # polar angle   (horizontal angle) # 4\n",
    "    c=np.rad2deg(np.arccos(z/a))   # azimuth angle (vertical angle)   # 5\n",
    "\n",
    "    x=np.vstack([x, y, z, a, b, c, r]).T\n",
    "\n",
    "    # horizontal line grouping to [-45º, 45º)\n",
    "    x=x[(45>x[:, 4])&(x[:, 4]>=-45)]\n",
    "    # vertical line grouping to [min(x), max(x))\n",
    "    c_max, c_min=max(x[:, 5]), min(x[:, 5])\n",
    "\n",
    "    # horizontal grouping\n",
    "    tmp=np.linspace(-45, 45 , 180+1)\n",
    "    x=np.array([x[(tmp[i+1]>x[:, 4])&(x[:, 4]>=tmp[i])] for i in range(180)])\n",
    "    # vertical grouping\n",
    "    tmp=np.linspace(c_min, c_max, 64+1)\n",
    "    x=np.array([[j[(tmp[i+1]>j[:, 5])&(j[:, 5]>=tmp[i])] for i in range(64)] for j in x])\n",
    "\n",
    "    # sampling\n",
    "    x=np.array([[np.concatenate([i[np.argmin(i[:, 3])], i[np.argmax(i[:, 3])]]) if len(i)>0 else np.array([-1]*14) for i in j]for j in x])\n",
    "    \n",
    "    # Interpolation\n",
    "    for i in range(180):\n",
    "        for j in range(64):\n",
    "            if(np.all(x[i][j]==np.array([-1]*14))):\n",
    "                tmp=np.array([0.]*14)\n",
    "                count=0\n",
    "                if(j+1<64): count, tmp=count+1, tmp+x[i][j+1]\n",
    "                if(j-1>=0): count, tmp=count+1, tmp+x[i][j-1]\n",
    "                x[i][j]=tmp/count\n",
    "    return x"
   ]
  },
  {
   "cell_type": "code",
   "execution_count": null,
   "id": "92c7f2b2",
   "metadata": {
    "code_folding": []
   },
   "outputs": [],
   "source": [
    "# plot_img_with_pc(bin_path, img_path, cal_path)\n",
    "\n",
    "import matplotlib.pyplot as plt\n",
    "from BirdsEyeView import readKittiCalib\n",
    "\n",
    "def lidar2camera(x, calibration):\n",
    "    x=calibration.dot(np.append(x, 1))\n",
    "    return x[: 2]/x[2]\n",
    "\n",
    "def setMatVal(mat, pos, val):\n",
    "    pos = np.round(pos).astype('int')\n",
    "    if np.all((0 <= pos) & (pos < mat.shape[:2])):\n",
    "        mat[tuple(pos)] = val\n",
    "\n",
    "def plot_img_with_pc(bin_path, img_path, cal_path):\n",
    "    input_feature_map=preprocessing_point_cloud_data(bin_path)\n",
    "    img = plt.imread(img_path)\n",
    "    calib = readKittiCalib(cal_path)\n",
    "    P2 = np.array(calib['P2']).reshape(3,4)\n",
    "    R0 = np.array(calib['R0_rect']).reshape(3,3)\n",
    "    T  = np.array(calib['Tr_velo_to_cam']).reshape(3,4)\n",
    "    K  = P2.dot(np.vstack([R0.dot(T), [0, 0, 0, 1]]))\n",
    "\n",
    "    seg = np.where(model(np.array([input_feature_map])).numpy()[0, :, :, 0] > 0.5, 1, 0)\n",
    "    color=[1, 0, 1]\n",
    "\n",
    "    for i in range(seg.shape[0]):\n",
    "        for j in range(seg.shape[1]):\n",
    "            if seg[i][j] == 1:\n",
    "                p = lidar2camera(input_feature_map[i][j][0:3], K)[::-1]\n",
    "                for ii in range(3):\n",
    "                    for jj in range(3):\n",
    "                        offset = [ii-1, jj-1]\n",
    "                        setMatVal(img, p+offset, color)\n",
    "    plt.axis('off')\n",
    "    plt.imshow(img)\n",
    "    plt.show()"
   ]
  },
  {
   "cell_type": "code",
   "execution_count": null,
   "id": "4fb9c3f3",
   "metadata": {
    "code_folding": [
     0
    ],
    "scrolled": true
   },
   "outputs": [],
   "source": [
    "for i in range(95):    \n",
    "    bin_path=r'.\\data_road\\training\\velodyne\\um_0000{:02d}.bin'.format(i)\n",
    "    img_path=r'.\\data_road\\training\\image_2\\um_0000{:02d}.png'.format(i)\n",
    "    cal_path=r'.\\data_road\\training\\calib\\um_0000{:02d}.txt'.format(i)\n",
    "\n",
    "    plot_img_with_pc(\n",
    "        bin_path=bin_path,\n",
    "        img_path=img_path,\n",
    "        cal_path=cal_path\n",
    "    )"
   ]
  },
  {
   "cell_type": "code",
   "execution_count": null,
   "id": "e4f4b9d6",
   "metadata": {
    "code_folding": [
     0
    ],
    "scrolled": true
   },
   "outputs": [],
   "source": [
    "for i in range(96):    \n",
    "    bin_path=r'.\\data_road\\training\\velodyne\\umm_0000{:02d}.bin'.format(i)\n",
    "    img_path=r'.\\data_road\\training\\image_2\\umm_0000{:02d}.png'.format(i)\n",
    "    cal_path=r'.\\data_road\\training\\calib\\umm_0000{:02d}.txt'.format(i)\n",
    "\n",
    "    plot_img_with_pc(\n",
    "        bin_path=bin_path,\n",
    "        img_path=img_path,\n",
    "        cal_path=cal_path\n",
    "    )"
   ]
  },
  {
   "cell_type": "code",
   "execution_count": null,
   "id": "6207932d",
   "metadata": {
    "code_folding": [
     0
    ]
   },
   "outputs": [],
   "source": [
    "for i in range(98):    \n",
    "    bin_path=r'.\\data_road\\training\\velodyne\\uu_0000{:02d}.bin'.format(i)\n",
    "    img_path=r'.\\data_road\\training\\image_2\\uu_0000{:02d}.png'.format(i)\n",
    "    cal_path=r'.\\data_road\\training\\calib\\uu_0000{:02d}.txt'.format(i)\n",
    "\n",
    "    plot_img_with_pc(\n",
    "        bin_path=bin_path,\n",
    "        img_path=img_path,\n",
    "        cal_path=cal_path\n",
    "    )"
   ]
  },
  {
   "cell_type": "code",
   "execution_count": null,
   "id": "b75ddfe6",
   "metadata": {},
   "outputs": [],
   "source": [
    "# plot_img_with_full_pc(bin_path, img_path, cal_path)\n",
    "\n",
    "def plot_img_with_full_pc(bin_path, img_path, cal_path):\n",
    "    input_feature_map=preprocessing_point_cloud_data(bin_path)\n",
    "    img = plt.imread(img_path)\n",
    "    calib = readKittiCalib(cal_path)\n",
    "    P2 = np.array(calib['P2']).reshape(3,4)\n",
    "    R0 = np.array(calib['R0_rect']).reshape(3,3)\n",
    "    T  = np.array(calib['Tr_velo_to_cam']).reshape(3,4)\n",
    "    K  = P2.dot(np.vstack([R0.dot(T), [0, 0, 0, 1]]))\n",
    "\n",
    "    seg = np.where(model(np.array([input_feature_map])).numpy()[0, :, :, 0] > 0.5, 1, 0)\n",
    "    coordinate=np.array([lidar2camera(input_feature_map[i][j][0:3], K) for i in range(seg.shape[0]) for j in range(seg.shape[1]) if seg[i][j]==1])\n",
    "    for i in coordinate:\n",
    "        for j in range(10):\n",
    "            for k in range(15):\n",
    "                if((i[1]+j<img.shape[0]) & (i[1]-j>0) & (i[0]+k<img.shape[1]) & (i[0]-k>0)):\n",
    "                    img[int(i[1])+j, int(i[0])+k]=img[int(i[1])+j, int(i[0])+k]+[1, 0, 0]\n",
    "    plt.imshow(img)\n",
    "    plt.axis('off')\n",
    "    plt.show()"
   ]
  },
  {
   "cell_type": "code",
   "execution_count": null,
   "id": "c563a1af",
   "metadata": {
    "scrolled": true
   },
   "outputs": [],
   "source": [
    "for i in range(95):    \n",
    "    bin_path=r'.\\data_road\\training\\velodyne\\um_0000{:02d}.bin'.format(i)\n",
    "    img_path=r'.\\data_road\\training\\image_2\\um_0000{:02d}.png'.format(i)\n",
    "    cal_path=r'.\\data_road\\training\\calib\\um_0000{:02d}.txt'.format(i)\n",
    "\n",
    "    plot_img_with_full_pc(\n",
    "        bin_path=bin_path,\n",
    "        img_path=img_path,\n",
    "        cal_path=cal_path\n",
    "    )"
   ]
  },
  {
   "cell_type": "code",
   "execution_count": null,
   "id": "b414222e",
   "metadata": {},
   "outputs": [],
   "source": [
    "for i in range(96):    \n",
    "    bin_path=r'.\\data_road\\training\\velodyne\\umm_0000{:02d}.bin'.format(i)\n",
    "    img_path=r'.\\data_road\\training\\image_2\\umm_0000{:02d}.png'.format(i)\n",
    "    cal_path=r'.\\data_road\\training\\calib\\umm_0000{:02d}.txt'.format(i)\n",
    "\n",
    "    plot_img_with_full_pc(\n",
    "        bin_path=bin_path,\n",
    "        img_path=img_path,\n",
    "        cal_path=cal_path\n",
    "    )"
   ]
  },
  {
   "cell_type": "code",
   "execution_count": null,
   "id": "c8208617",
   "metadata": {},
   "outputs": [],
   "source": [
    "for i in range(98):    \n",
    "    bin_path=r'.\\data_road\\training\\velodyne\\uu_0000{:02d}.bin'.format(i)\n",
    "    img_path=r'.\\data_road\\training\\image_2\\uu_0000{:02d}.png'.format(i)\n",
    "    cal_path=r'.\\data_road\\training\\calib\\uu_0000{:02d}.txt'.format(i)\n",
    "\n",
    "    plot_img_with_full_pc(\n",
    "        bin_path=bin_path,\n",
    "        img_path=img_path,\n",
    "        cal_path=cal_path\n",
    "    )"
   ]
  },
  {
   "cell_type": "code",
   "execution_count": null,
   "id": "89d67e97",
   "metadata": {},
   "outputs": [],
   "source": []
  }
 ],
 "metadata": {
  "kernelspec": {
   "display_name": "Python 3 (ipykernel)",
   "language": "python",
   "name": "python3"
  },
  "language_info": {
   "codemirror_mode": {
    "name": "ipython",
    "version": 3
   },
   "file_extension": ".py",
   "mimetype": "text/x-python",
   "name": "python",
   "nbconvert_exporter": "python",
   "pygments_lexer": "ipython3",
   "version": "3.11.1"
  }
 },
 "nbformat": 4,
 "nbformat_minor": 5
}
