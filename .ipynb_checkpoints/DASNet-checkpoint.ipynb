{
 "cells": [
  {
   "cell_type": "code",
   "execution_count": null,
   "id": "2f0cbc6b",
   "metadata": {
    "ExecuteTime": {
     "end_time": "2024-07-10T11:37:10.777201Z",
     "start_time": "2024-07-10T11:37:08.135675Z"
    }
   },
   "outputs": [],
   "source": [
    "import tensorflow as tf\n",
    "import keras\n",
    "from sklearn.model_selection import train_test_split\n",
    "\n",
    "print(tf.__version__)\n",
    "print(keras.__version__)\n",
    "print(tf.test.is_gpu_available())\n",
    "\n",
    "import numpy as np\n",
    "\n",
    "X=np.load('../dataset/Interpolation/X.npy')\n",
    "Y=np.load('../dataset/Interpolation/Y.npy')\n",
    "\n",
    "print(X.shape)\n",
    "print(Y.shape)\n",
    "\n",
    "x_train, x_test, y_train, y_test = train_test_split(X, Y, test_size=0.2, random_state=729)\n",
    "print(x_train.shape)\n",
    "print(x_test.shape)\n",
    "print(y_train.shape)\n",
    "print(y_test.shape)"
   ]
  },
  {
   "cell_type": "code",
   "execution_count": null,
   "id": "d006b619",
   "metadata": {
    "ExecuteTime": {
     "end_time": "2024-07-10T11:37:10.793162Z",
     "start_time": "2024-07-10T11:37:10.780134Z"
    }
   },
   "outputs": [],
   "source": [
    "from keras import backend as K\n",
    "\n",
    "def accuracy_m(y_true, y_pred):\n",
    "    true_positives = K.sum(K.round(K.clip(y_true * y_pred, 0, 1)))\n",
    "    true_negatives = K.sum(K.round(K.clip((1 - y_true) * (1 - y_pred), 0, 1)))\n",
    "    total_samples = K.sum(K.round(K.clip(y_true, 0, 1))) + K.sum(K.round(K.clip(1 - y_true, 0, 1)))\n",
    "    accuracy = (true_positives + true_negatives) / (total_samples + K.epsilon())\n",
    "    return accuracy\n",
    "\n",
    "def recall_m(y_true, y_pred):\n",
    "    true_positives=K.sum(K.round(K.clip(y_true*y_pred, 0, 1)))\n",
    "    possible_positives=K.sum(K.round(K.clip(y_true, 0, 1)))\n",
    "    recall=true_positives/(possible_positives+K.epsilon())\n",
    "    return recall\n",
    "\n",
    "def precision_m(y_true, y_pred):\n",
    "    true_positives=K.sum(K.round(K.clip(y_true * y_pred, 0, 1)))\n",
    "    predicted_positives=K.sum(K.round(K.clip(y_pred, 0, 1)))\n",
    "    precision=true_positives/(predicted_positives+K.epsilon())\n",
    "    return precision\n",
    "\n",
    "def f1_score_m(y_true, y_pred):\n",
    "    precision=precision_m(y_true, y_pred)\n",
    "    recall=recall_m(y_true, y_pred)\n",
    "    return 2*((precision*recall)/(precision+recall+K.epsilon()))"
   ]
  },
  {
   "cell_type": "code",
   "execution_count": null,
   "id": "0ae5e67a",
   "metadata": {
    "ExecuteTime": {
     "end_time": "2024-07-10T11:39:03.508017Z",
     "start_time": "2024-07-10T11:37:10.795088Z"
    },
    "scrolled": true
   },
   "outputs": [],
   "source": [
    "def DSC_block(x):\n",
    "    x=keras.layers.DepthwiseConv2D(kernel_size=(7, 7), padding='same', use_bias=False)(x)\n",
    "    x=keras.layers.Conv2D(filters=16, kernel_size=(1, 1), padding='same', use_bias=False)(x)\n",
    "    x=keras.activations.relu(x)\n",
    "    x=keras.layers.BatchNormalization()(x)\n",
    "    return x\n",
    "\n",
    "inp=keras.Input(shape=(180, 64, 14))\n",
    "x=keras.layers.Conv2D(filters=16, kernel_size=(1, 1), padding='same', use_bias=False)(inp)\n",
    "x=keras.layers.BatchNormalization()(x)\n",
    "x=DSC_block(x)\n",
    "x=DSC_block(x)\n",
    "x=DSC_block(x)\n",
    "x=DSC_block(x)\n",
    "x=DSC_block(x)\n",
    "x=DSC_block(x)\n",
    "x=DSC_block(x)\n",
    "x=DSC_block(x)\n",
    "x=keras.layers.Conv2D(filters=1, kernel_size=(1, 1), padding='same', use_bias=False)(x)\n",
    "\n",
    "checkpoint=keras.callbacks.ModelCheckpoint(r\"../weights/DSCNet(ReLU first)/no_use_biases/model-{epoch}-{val_f1_score_m:.4f}.h5\", monitor='val_f1_score_m', verbose=1, save_best_only=True, mode='max')\n",
    "\n",
    "model=keras.Model(inp, x)\n",
    "model.compile(loss=tf.keras.losses.MeanSquaredError(), optimizer=keras.optimizers.Adam(), metrics=[accuracy_m, recall_m, precision_m, f1_score_m])\n",
    "model.summary()\n",
    "history=model.fit(x_train, y_train, batch_size=1, epochs=200, validation_data=(x_test, y_test), callbacks=[checkpoint])"
   ]
  }
 ],
 "metadata": {
  "kernelspec": {
   "display_name": "Python 3 (ipykernel)",
   "language": "python",
   "name": "python3"
  },
  "language_info": {
   "codemirror_mode": {
    "name": "ipython",
    "version": 3
   },
   "file_extension": ".py",
   "mimetype": "text/x-python",
   "name": "python",
   "nbconvert_exporter": "python",
   "pygments_lexer": "ipython3",
   "version": "3.11.1"
  }
 },
 "nbformat": 4,
 "nbformat_minor": 5
}
