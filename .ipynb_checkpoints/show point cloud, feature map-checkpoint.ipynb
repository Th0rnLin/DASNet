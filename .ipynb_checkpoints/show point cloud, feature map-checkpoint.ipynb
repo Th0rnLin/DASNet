{
 "cells": [
  {
   "cell_type": "code",
   "execution_count": null,
   "id": "ad19a3bd",
   "metadata": {
    "ExecuteTime": {
     "end_time": "2024-07-02T06:06:59.198752Z",
     "start_time": "2024-07-02T06:06:57.594182Z"
    },
    "code_folding": []
   },
   "outputs": [],
   "source": [
    "# input feature map\n",
    "\n",
    "import numpy as np\n",
    "\n",
    "def preprocessing_point_cloud_data(file_path):\n",
    "    x, y, z, r=np.fromfile(file_path, dtype=np.float32).reshape(-1, 4).T\n",
    "    a=np.sqrt(x*x+y*y+z*z)         # radial distance                  # 3\n",
    "    b=np.rad2deg(np.arctan2(y, x)) # polar angle   (horizontal angle) # 4\n",
    "    c=np.rad2deg(np.arccos(z/a))   # azimuth angle (vertical angle)   # 5\n",
    "\n",
    "    x=np.vstack([x, y, z, a, b, c, r]).T\n",
    "\n",
    "    # horizontal line grouping to [-45º, 45º)\n",
    "    x=x[(45>x[:, 4])&(x[:, 4]>=-45)]\n",
    "    # vertical line grouping to [min(x), max(x))\n",
    "    c_max, c_min=max(x[:, 5]), min(x[:, 5])\n",
    "\n",
    "    # horizontal grouping\n",
    "    tmp=np.linspace(-45, 45 , 180+1)\n",
    "    x=np.array([x[(tmp[i+1]>x[:, 4])&(x[:, 4]>=tmp[i])] for i in range(180)])\n",
    "    # vertical grouping\n",
    "    tmp=np.linspace(c_min, c_max, 64+1)\n",
    "    x=np.array([[j[(tmp[i+1]>j[:, 5])&(j[:, 5]>=tmp[i])] for i in range(64)] for j in x])\n",
    "\n",
    "    # sampling\n",
    "    x=np.array([[np.concatenate([i[np.argmin(i[:, 3])], i[np.argmax(i[:, 3])]]) if len(i)>0 else np.array([-1]*14) for i in j]for j in x])\n",
    "    \n",
    "    # Interpolation\n",
    "    for i in range(180):\n",
    "        for j in range(64):\n",
    "            if(np.all(x[i][j]==np.array([-1]*14))):\n",
    "                tmp=np.array([0.]*14)\n",
    "                count=0\n",
    "                if(j+1<64): count, tmp=count+1, tmp+x[i][j+1]\n",
    "                if(j-1>=0): count, tmp=count+1, tmp+x[i][j-1]\n",
    "                x[i][j]=tmp/count\n",
    "                \n",
    "    return x"
   ]
  },
  {
   "cell_type": "code",
   "execution_count": null,
   "id": "5e0b9ccc",
   "metadata": {},
   "outputs": [],
   "source": [
    "import numpy as np\n",
    "import matplotlib.pyplot as plt\n",
    "\n",
    "bin_path=r'.\\data_road\\training\\velodyne\\um_000049.bin'\n",
    "x, y, z, r=np.fromfile(bin_path, dtype=np.float32).reshape(-1, 4).T\n",
    "\n",
    "fig = plt.figure(figsize=(10, 7))\n",
    "ax = fig.add_subplot(111, projection='3d')\n",
    "# ax.axis('off')\n",
    "ax.scatter(y, x, z, c=r, cmap='Greens_r', s=1)\n",
    "ax.view_init(elev=20, azim=35)\n",
    "ax.set_xlabel('y')\n",
    "ax.set_ylabel('x')\n",
    "ax.set_zlabel('z')\n",
    "plt.show()"
   ]
  },
  {
   "cell_type": "code",
   "execution_count": null,
   "id": "60df12f3",
   "metadata": {
    "scrolled": true
   },
   "outputs": [],
   "source": [
    "import matplotlib.pyplot as plt\n",
    "\n",
    "bin_path=r'.\\data_road\\training\\velodyne\\um_000049.bin'\n",
    "input_feature_map=preprocessing_point_cloud_data(bin_path)\n",
    "\n",
    "for i in range(14):\n",
    "    print(i)\n",
    "    plt.imshow(input_feature_map[:, :, i], cmap='gray')\n",
    "    plt.axis('off')\n",
    "    plt.show()"
   ]
  },
  {
   "cell_type": "code",
   "execution_count": null,
   "id": "fc1edf99",
   "metadata": {},
   "outputs": [],
   "source": [
    "# input feature map\n",
    "\n",
    "import numpy as np\n",
    "\n",
    "def preprocessing_point_cloud_data(file_path):\n",
    "    x, y, z, r=np.fromfile(file_path, dtype=np.float32).reshape(-1, 4).T\n",
    "    a=np.sqrt(x*x+y*y+z*z)         # radial distance                  # 3\n",
    "    b=np.rad2deg(np.arctan2(y, x)) # polar angle   (horizontal angle) # 4\n",
    "    c=np.rad2deg(np.arccos(z/a))   # azimuth angle (vertical angle)   # 5\n",
    "                \n",
    "    return a, b, c, r\n",
    "\n",
    "import numpy as np\n",
    "import matplotlib.pyplot as plt\n",
    "\n",
    "bin_path=r'.\\data_road\\training\\velodyne\\um_000049.bin'\n",
    "# x, y, z, r=np.fromfile(bin_path, dtype=np.float32).reshape(-1, 4).T\n",
    "x, y, z, r = preprocessing_point_cloud_data(bin_path)\n",
    "\n",
    "fig = plt.figure(figsize=(10, 7))\n",
    "ax = fig.add_subplot(111, projection='3d')\n",
    "# ax.axis('off')\n",
    "ax.scatter(y, x, z, c=r, cmap='Greens_r', s=1)\n",
    "ax.view_init(elev=20, azim=35)\n",
    "ax.set_xlabel('y')\n",
    "ax.set_ylabel('x')\n",
    "ax.set_zlabel('z')\n",
    "plt.show()"
   ]
  }
 ],
 "metadata": {
  "kernelspec": {
   "display_name": "Python 3 (ipykernel)",
   "language": "python",
   "name": "python3"
  },
  "language_info": {
   "codemirror_mode": {
    "name": "ipython",
    "version": 3
   },
   "file_extension": ".py",
   "mimetype": "text/x-python",
   "name": "python",
   "nbconvert_exporter": "python",
   "pygments_lexer": "ipython3",
   "version": "3.11.1"
  }
 },
 "nbformat": 4,
 "nbformat_minor": 5
}
