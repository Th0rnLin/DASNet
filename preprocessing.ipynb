{
 "cells": [
  {
   "cell_type": "markdown",
   "id": "d8034185",
   "metadata": {},
   "source": [
    "# Point Cloud Data -> preprocessing_point_cloud_data(file_path)"
   ]
  },
  {
   "cell_type": "code",
   "execution_count": 1,
   "id": "f8539629",
   "metadata": {
    "code_folding": []
   },
   "outputs": [],
   "source": [
    "# test\n",
    "import numpy as np\n",
    "\n",
    "file_path=r'.\\data_road\\training\\velodyne\\um_000000.bin'\n",
    "\n",
    "x, y, z, r=np.fromfile(file_path, dtype=np.float32).reshape(-1, 4).T\n",
    "a=np.sqrt(x*x+y*y+z*z)         # radial distance                  # 3\n",
    "b=np.rad2deg(np.arctan2(y, x)) # polar angle   (horizontal angle) # 4\n",
    "c=np.rad2deg(np.arccos(z/a))   # azimuth angle (vertical angle)   # 5\n",
    "\n",
    "x=np.vstack([x, y, z, a, b, c, r]).T\n",
    "\n",
    "# horizontal line grouping to [-45º, 45º)\n",
    "x=x[(45>x[:, 4])&(x[:, 4]>=-45)]\n",
    "# vertical line grouping to [min(x), max(x))\n",
    "c_max, c_min=max(x[:, 5]), min(x[:, 5])\n",
    "\n",
    "# horizontal grouping\n",
    "tmp=np.linspace(-45, 45 , 180+1)\n",
    "x=np.array([x[(tmp[i+1]>x[:, 4])&(x[:, 4]>=tmp[i])] for i in range(180)])\n",
    "# vertical grouping\n",
    "tmp=np.linspace(c_min, c_max, 64+1)\n",
    "x=np.array([[j[(tmp[i+1]>j[:, 5])&(j[:, 5]>=tmp[i])] for i in range(64)] for j in x])\n",
    "\n",
    "# sampling\n",
    "x=np.array([[np.concatenate([i[np.argmin(i[:, 3])], i[np.argmax(i[:, 3])]]) if len(i)>0 else np.array([-1]*14) for i in j]for j in x])\n",
    "\n",
    "# Interpolation\n",
    "for i in range(180):\n",
    "    for j in range(64):\n",
    "        if(np.all(x[i][j]==np.array([-1]*14))):\n",
    "            tmp=np.array([0.]*14)\n",
    "            count=0\n",
    "            if(j+1<64): count, tmp=count+1, tmp+x[i][j+1]\n",
    "            if(j-1>=0): count, tmp=count+1, tmp+x[i][j-1]\n",
    "            x[i][j]=tmp/count"
   ]
  },
  {
   "cell_type": "code",
   "execution_count": 30,
   "id": "5ae1f77e",
   "metadata": {
    "code_folding": []
   },
   "outputs": [],
   "source": [
    "# function\n",
    "import numpy as np\n",
    "\n",
    "def preprocessing_point_cloud_data(file_path):\n",
    "    x, y, z, r=np.fromfile(file_path, dtype=np.float32).reshape(-1, 4).T\n",
    "    a=np.sqrt(x*x+y*y+z*z)         # radial distance                  # 3\n",
    "    b=np.rad2deg(np.arctan2(y, x)) # polar angle   (horizontal angle) # 4\n",
    "    c=np.rad2deg(np.arccos(z/a))   # azimuth angle (vertical angle)   # 5\n",
    "\n",
    "    x=np.vstack([x, y, z, a, b, c, r]).T\n",
    "\n",
    "    # horizontal line grouping to [-45º, 45º)\n",
    "    x=x[(45>x[:, 4])&(x[:, 4]>=-45)]\n",
    "    # vertical line grouping to [min(x), max(x))\n",
    "    c_max, c_min=max(x[:, 5]), min(x[:, 5])\n",
    "\n",
    "    # horizontal grouping\n",
    "    tmp=np.linspace(-45, 45 , 180+1)\n",
    "    x=np.array([x[(tmp[i+1]>x[:, 4])&(x[:, 4]>=tmp[i])] for i in range(180)])\n",
    "    # vertical grouping\n",
    "    tmp=np.linspace(c_min, c_max, 64+1)\n",
    "    x=np.array([[j[(tmp[i+1]>j[:, 5])&(j[:, 5]>=tmp[i])] for i in range(64)] for j in x])\n",
    "\n",
    "    # sampling\n",
    "    x=np.array([[np.concatenate([i[np.argmin(i[:, 3])], i[np.argmax(i[:, 3])]]) if len(i)>0 else np.array([-1]*14) for i in j]for j in x])\n",
    "    \n",
    "    # Interpolation\n",
    "    for i in range(180):\n",
    "        for j in range(64):\n",
    "            if(np.all(x[i][j]==np.array([-1]*14))):\n",
    "                tmp=np.array([0.]*14)\n",
    "                count=0\n",
    "                if(j+1<64): count, tmp=count+1, tmp+x[i][j+1]\n",
    "                if(j-1>=0): count, tmp=count+1, tmp+x[i][j-1]\n",
    "                x[i][j]=tmp/count\n",
    "                \n",
    "    return x"
   ]
  },
  {
   "cell_type": "markdown",
   "id": "66ef0c77",
   "metadata": {},
   "source": [
    "# Ground Truth -> preprocessing_ground_truth(pcd_file_path, gt_file_path, calib_file_path)"
   ]
  },
  {
   "cell_type": "code",
   "execution_count": 3,
   "id": "4d65ba77",
   "metadata": {
    "code_folding": []
   },
   "outputs": [],
   "source": [
    "# test\n",
    "import matplotlib.pyplot as plt\n",
    "from BirdsEyeView import readKittiCalib\n",
    "\n",
    "def lidar2camera(x, calibration):\n",
    "    x=calibration.dot(np.append(x, 1))\n",
    "    return x[: 2]/x[2]\n",
    "def get_binary_matrix(ground_truth, x):\n",
    "    if(np.all((x>=0)&(ground_truth.shape>x))):\n",
    "        return ground_truth[x.astype('int')[0]][x.astype('int')[1]]\n",
    "    else: return 0\n",
    "\n",
    "# get point could data\n",
    "pcd_file_path=r'.\\data_road\\training\\velodyne\\um_000000.bin'\n",
    "x=preprocessing_point_cloud_data(pcd_file_path)\n",
    "\n",
    "# get ground truth data\n",
    "gt_file_path=r'.\\data_road\\training\\gt_image_2\\road\\um_road_000000.png'\n",
    "gt=plt.imread(gt_file_path)[:, :, 2]\n",
    "\n",
    "# get calibration matrix\n",
    "calib_file_path=r'.\\data_road\\training\\calib\\um_000000.txt'\n",
    "calib=readKittiCalib(calib_file_path)\n",
    "P2, R0, T=np.array(calib['P2']).reshape(3, 4), np.array(calib['R0_rect']).reshape(3, 3), np.array(calib['Tr_velo_to_cam']).reshape(3, 4)\n",
    "calibration =P2.dot(np.vstack([R0.dot(T), [0, 0, 0, 1]]))\n",
    "\n",
    "# convert to spherical coordinates\n",
    "graph=np.array([[get_binary_matrix(gt, lidar2camera(x[j][i][: 3], calibration)[:: -1])*get_binary_matrix(gt, lidar2camera(x[j][i][7: 10], calibration)[:: -1]) for i in range(64)] for j in range(180)])"
   ]
  },
  {
   "cell_type": "code",
   "execution_count": 4,
   "id": "772720e6",
   "metadata": {
    "code_folding": [
     5,
     8
    ]
   },
   "outputs": [],
   "source": [
    "# function\n",
    "import matplotlib.pyplot as plt\n",
    "from BirdsEyeView import readKittiCalib\n",
    "\n",
    "def preprocessing_ground_truth(pcd_file_path, gt_file_path, calib_file_path):\n",
    "    def lidar2camera(x, calibration):\n",
    "        x=calibration.dot(np.append(x, 1))\n",
    "        return x[: 2]/x[2]\n",
    "    def get_binary_matrix(ground_truth, x):\n",
    "        if(np.all((x>=0)&(ground_truth.shape>x))):\n",
    "            return ground_truth[x.astype('int')[0]][x.astype('int')[1]]\n",
    "        else: return 0\n",
    "\n",
    "    # get point could data\n",
    "    x=preprocessing_point_cloud_data(pcd_file_path)\n",
    "\n",
    "    # get ground truth data\n",
    "    gt=plt.imread(gt_file_path)[:, :, 2]\n",
    "\n",
    "    # get calibration matrix\n",
    "    calib=readKittiCalib(calib_file_path)\n",
    "    P2, R0, T=np.array(calib['P2']).reshape(3, 4), np.array(calib['R0_rect']).reshape(3, 3), np.array(calib['Tr_velo_to_cam']).reshape(3, 4)\n",
    "    calibration =P2.dot(np.vstack([R0.dot(T), [0, 0, 0, 1]]))\n",
    "\n",
    "    # convert to spherical coordinates\n",
    "    graph=np.array([[get_binary_matrix(gt, lidar2camera(x[j][i][: 3], calibration)[:: -1])*get_binary_matrix(gt, lidar2camera(x[j][i][7: 10], calibration)[:: -1]) for i in range(64)] for j in range(180)])\n",
    "    \n",
    "    return graph"
   ]
  },
  {
   "cell_type": "markdown",
   "id": "16085ea3",
   "metadata": {},
   "source": [
    "# test"
   ]
  },
  {
   "cell_type": "code",
   "execution_count": 5,
   "id": "5864eee2",
   "metadata": {},
   "outputs": [],
   "source": [
    "import os\n",
    "\n",
    "file_path_list_calib    =[os.path.join(r'.\\data_road\\training\\calib', i)           for i in os.listdir(r'.\\data_road\\training\\calib')]\n",
    "file_path_list_gt_image2=[os.path.join(r'.\\data_road\\training\\gt_image_2\\road', i) for i in os.listdir(r'.\\data_road\\training\\gt_image_2\\road')]\n",
    "file_path_list_velodyne =[os.path.join(r'.\\data_road\\training\\velodyne', i)        for i in os.listdir(r'.\\data_road\\training\\velodyne')]\n",
    "\n",
    "X=np.array([preprocessing_point_cloud_data(file_path_list_velodyne[i]) for i in range(289)])\n",
    "Y=np.array([preprocessing_ground_truth(file_path_list_velodyne[i], file_path_list_gt_image2[i], file_path_list_calib[i]) for i in range(289)])"
   ]
  },
  {
   "cell_type": "code",
   "execution_count": 6,
   "id": "6263d3fa",
   "metadata": {},
   "outputs": [],
   "source": [
    "np.save(r'./X.npy', X)\n",
    "np.save(r'./Y.npy', Y)"
   ]
  },
  {
   "cell_type": "code",
   "execution_count": 5,
   "id": "da268d3d",
   "metadata": {},
   "outputs": [
    {
     "ename": "NameError",
     "evalue": "name 'file_path_list_gt_image2' is not defined",
     "output_type": "error",
     "traceback": [
      "\u001b[1;31m---------------------------------------------------------------------------\u001b[0m",
      "\u001b[1;31mNameError\u001b[0m                                 Traceback (most recent call last)",
      "\u001b[1;32m~\\AppData\\Local\\Temp\\ipykernel_2288\\3902723259.py\u001b[0m in \u001b[0;36m<module>\u001b[1;34m\u001b[0m\n\u001b[0;32m      6\u001b[0m \u001b[1;33m\u001b[0m\u001b[0m\n\u001b[0;32m      7\u001b[0m \u001b[0mX\u001b[0m\u001b[1;33m=\u001b[0m\u001b[0mnp\u001b[0m\u001b[1;33m.\u001b[0m\u001b[0marray\u001b[0m\u001b[1;33m(\u001b[0m\u001b[1;33m[\u001b[0m\u001b[0mpreprocessing_point_cloud_data\u001b[0m\u001b[1;33m(\u001b[0m\u001b[0mfile_path_list_velodyne\u001b[0m\u001b[1;33m[\u001b[0m\u001b[0mi\u001b[0m\u001b[1;33m]\u001b[0m\u001b[1;33m)\u001b[0m \u001b[1;32mfor\u001b[0m \u001b[0mi\u001b[0m \u001b[1;32min\u001b[0m \u001b[0mrange\u001b[0m\u001b[1;33m(\u001b[0m\u001b[1;36m290\u001b[0m\u001b[1;33m)\u001b[0m\u001b[1;33m]\u001b[0m\u001b[1;33m)\u001b[0m\u001b[1;33m\u001b[0m\u001b[0m\n\u001b[1;32m----> 8\u001b[1;33m \u001b[0mY\u001b[0m\u001b[1;33m=\u001b[0m\u001b[0mnp\u001b[0m\u001b[1;33m.\u001b[0m\u001b[0marray\u001b[0m\u001b[1;33m(\u001b[0m\u001b[1;33m[\u001b[0m\u001b[0mpreprocessing_ground_truth\u001b[0m\u001b[1;33m(\u001b[0m\u001b[0mfile_path_list_velodyne\u001b[0m\u001b[1;33m[\u001b[0m\u001b[0mi\u001b[0m\u001b[1;33m]\u001b[0m\u001b[1;33m,\u001b[0m \u001b[0mfile_path_list_gt_image2\u001b[0m\u001b[1;33m[\u001b[0m\u001b[0mi\u001b[0m\u001b[1;33m]\u001b[0m\u001b[1;33m,\u001b[0m \u001b[0mfile_path_list_calib\u001b[0m\u001b[1;33m[\u001b[0m\u001b[0mi\u001b[0m\u001b[1;33m]\u001b[0m\u001b[1;33m)\u001b[0m \u001b[1;32mfor\u001b[0m \u001b[0mi\u001b[0m \u001b[1;32min\u001b[0m \u001b[0mrange\u001b[0m\u001b[1;33m(\u001b[0m\u001b[1;36m290\u001b[0m\u001b[1;33m)\u001b[0m\u001b[1;33m]\u001b[0m\u001b[1;33m)\u001b[0m\u001b[1;33m\u001b[0m\u001b[0m\n\u001b[0m",
      "\u001b[1;32m~\\AppData\\Local\\Temp\\ipykernel_2288\\3902723259.py\u001b[0m in \u001b[0;36m<listcomp>\u001b[1;34m(.0)\u001b[0m\n\u001b[0;32m      6\u001b[0m \u001b[1;33m\u001b[0m\u001b[0m\n\u001b[0;32m      7\u001b[0m \u001b[0mX\u001b[0m\u001b[1;33m=\u001b[0m\u001b[0mnp\u001b[0m\u001b[1;33m.\u001b[0m\u001b[0marray\u001b[0m\u001b[1;33m(\u001b[0m\u001b[1;33m[\u001b[0m\u001b[0mpreprocessing_point_cloud_data\u001b[0m\u001b[1;33m(\u001b[0m\u001b[0mfile_path_list_velodyne\u001b[0m\u001b[1;33m[\u001b[0m\u001b[0mi\u001b[0m\u001b[1;33m]\u001b[0m\u001b[1;33m)\u001b[0m \u001b[1;32mfor\u001b[0m \u001b[0mi\u001b[0m \u001b[1;32min\u001b[0m \u001b[0mrange\u001b[0m\u001b[1;33m(\u001b[0m\u001b[1;36m290\u001b[0m\u001b[1;33m)\u001b[0m\u001b[1;33m]\u001b[0m\u001b[1;33m)\u001b[0m\u001b[1;33m\u001b[0m\u001b[0m\n\u001b[1;32m----> 8\u001b[1;33m \u001b[0mY\u001b[0m\u001b[1;33m=\u001b[0m\u001b[0mnp\u001b[0m\u001b[1;33m.\u001b[0m\u001b[0marray\u001b[0m\u001b[1;33m(\u001b[0m\u001b[1;33m[\u001b[0m\u001b[0mpreprocessing_ground_truth\u001b[0m\u001b[1;33m(\u001b[0m\u001b[0mfile_path_list_velodyne\u001b[0m\u001b[1;33m[\u001b[0m\u001b[0mi\u001b[0m\u001b[1;33m]\u001b[0m\u001b[1;33m,\u001b[0m \u001b[0mfile_path_list_gt_image2\u001b[0m\u001b[1;33m[\u001b[0m\u001b[0mi\u001b[0m\u001b[1;33m]\u001b[0m\u001b[1;33m,\u001b[0m \u001b[0mfile_path_list_calib\u001b[0m\u001b[1;33m[\u001b[0m\u001b[0mi\u001b[0m\u001b[1;33m]\u001b[0m\u001b[1;33m)\u001b[0m \u001b[1;32mfor\u001b[0m \u001b[0mi\u001b[0m \u001b[1;32min\u001b[0m \u001b[0mrange\u001b[0m\u001b[1;33m(\u001b[0m\u001b[1;36m290\u001b[0m\u001b[1;33m)\u001b[0m\u001b[1;33m]\u001b[0m\u001b[1;33m)\u001b[0m\u001b[1;33m\u001b[0m\u001b[0m\n\u001b[0m",
      "\u001b[1;31mNameError\u001b[0m: name 'file_path_list_gt_image2' is not defined"
     ]
    }
   ],
   "source": [
    "import os\n",
    "\n",
    "file_path_list_calib    =[os.path.join(r'.\\data_road\\testing\\calib', i)           for i in os.listdir(r'.\\data_road\\testing\\calib')]\n",
    "# file_path_list_gt_image2=[os.path.join(r'.\\data_road\\testing\\gt_image_2\\road', i) for i in os.listdir(r'.\\data_road\\testing\\gt_image_2\\road')]\n",
    "file_path_list_velodyne =[os.path.join(r'.\\data_road\\testing\\velodyne', i)        for i in os.listdir(r'.\\data_road\\testing\\velodyne')]\n",
    "\n",
    "X=np.array([preprocessing_point_cloud_data(file_path_list_velodyne[i]) for i in range(290)])\n",
    "Y=np.array([preprocessing_ground_truth(file_path_list_velodyne[i], file_path_list_gt_image2[i], file_path_list_calib[i]) for i in range(290)])"
   ]
  },
  {
   "cell_type": "code",
   "execution_count": null,
   "id": "4b73ba02",
   "metadata": {},
   "outputs": [],
   "source": []
  }
 ],
 "metadata": {
  "kernelspec": {
   "display_name": "kitti_road",
   "language": "python",
   "name": "kitti_road"
  },
  "language_info": {
   "codemirror_mode": {
    "name": "ipython",
    "version": 3
   },
   "file_extension": ".py",
   "mimetype": "text/x-python",
   "name": "python",
   "nbconvert_exporter": "python",
   "pygments_lexer": "ipython3",
   "version": "3.7.16"
  }
 },
 "nbformat": 4,
 "nbformat_minor": 5
}
